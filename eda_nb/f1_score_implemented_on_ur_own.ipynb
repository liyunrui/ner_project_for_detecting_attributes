{
 "cells": [
  {
   "cell_type": "code",
   "execution_count": 9,
   "metadata": {},
   "outputs": [
    {
     "data": {
      "text/plain": [
       "(3,)"
      ]
     },
     "execution_count": 9,
     "metadata": {},
     "output_type": "execute_result"
    }
   ],
   "source": [
    "import numpy as np\n",
    "y_true = np.array([[2,0,0],[2,1],[0,0,0,0]]) # 1-D array with shape of (num_samples,)\n",
    "y_true.shape"
   ]
  },
  {
   "cell_type": "code",
   "execution_count": 10,
   "metadata": {},
   "outputs": [
    {
     "data": {
      "text/plain": [
       "array([list([2, 0, 0]), list([2, 1]), list([0, 0, 0, 0])], dtype=object)"
      ]
     },
     "execution_count": 10,
     "metadata": {},
     "output_type": "execute_result"
    }
   ],
   "source": [
    "y_true"
   ]
  },
  {
   "cell_type": "code",
   "execution_count": 11,
   "metadata": {},
   "outputs": [
    {
     "data": {
      "text/plain": [
       "array([list([2, 0, 0]), list([2, 1])], dtype=object)"
      ]
     },
     "execution_count": 11,
     "metadata": {},
     "output_type": "execute_result"
    }
   ],
   "source": [
    "y_true = np.array([s for s in y_true if sum(s)!=0])\n",
    "y_true"
   ]
  },
  {
   "cell_type": "code",
   "execution_count": 12,
   "metadata": {},
   "outputs": [
    {
     "data": {
      "text/plain": [
       "(3,)"
      ]
     },
     "execution_count": 12,
     "metadata": {},
     "output_type": "execute_result"
    }
   ],
   "source": [
    "y_pred = np.array([[2,0,0],[2,0],[0,0,0,0]]) # 1-D array with shape of (num_samples,)\n",
    "y_pred.shape"
   ]
  },
  {
   "cell_type": "code",
   "execution_count": 28,
   "metadata": {},
   "outputs": [
    {
     "data": {
      "text/plain": [
       "(9,)"
      ]
     },
     "execution_count": 28,
     "metadata": {},
     "output_type": "execute_result"
    }
   ],
   "source": [
    "y_true = np.array([2,0,0,2,1,0,0,0,0])\n",
    "y_true.shape"
   ]
  },
  {
   "cell_type": "code",
   "execution_count": 29,
   "metadata": {},
   "outputs": [
    {
     "data": {
      "text/plain": [
       "(9,)"
      ]
     },
     "execution_count": 29,
     "metadata": {},
     "output_type": "execute_result"
    }
   ],
   "source": [
    "y_pred = np.array([2,0,0,2,0,0,0,0,0])\n",
    "y_pred.shape"
   ]
  },
  {
   "cell_type": "code",
   "execution_count": 33,
   "metadata": {},
   "outputs": [
    {
     "data": {
      "text/plain": [
       "(9,)"
      ]
     },
     "execution_count": 33,
     "metadata": {},
     "output_type": "execute_result"
    }
   ],
   "source": [
    "item_id = np.array([\n",
    " [5],\n",
    " [5],\n",
    " [5],\n",
    " [6],\n",
    " [6],\n",
    " [4],\n",
    " [4],\n",
    " [4],\n",
    " [4],\n",
    "])\n",
    "item_id = item_id.reshape(len(item_id)) # is item_id ordered?\n",
    "item_id.shape"
   ]
  },
  {
   "cell_type": "code",
   "execution_count": 31,
   "metadata": {},
   "outputs": [
    {
     "data": {
      "text/plain": [
       "OrderedCounter(OrderedDict([(5, 3), (6, 2), (4, 4)]))"
      ]
     },
     "execution_count": 31,
     "metadata": {},
     "output_type": "execute_result"
    }
   ],
   "source": [
    "from collections import Counter, OrderedDict\n",
    "\n",
    "class OrderedCounter(Counter, OrderedDict):\n",
    "    'Counter that remembers the order elements are first encountered'\n",
    "\n",
    "    def __repr__(self):\n",
    "        return '%s(%r)' % (self.__class__.__name__, OrderedDict(self))\n",
    "\n",
    "    def __reduce__(self):\n",
    "        return self.__class__, (OrderedDict(self),)\n",
    "\n",
    "words = [\"oranges\", \"apples\", \"apples\", \"bananas\", \"kiwis\", \"kiwis\", \"apples\"]\n",
    "c = OrderedCounter(words)\n",
    "#print(c)\n",
    "\n",
    "\n",
    "id_lengh_dict = OrderedCounter(list(item_id)) # need Counter is ordered key\n",
    "id_lengh_dict"
   ]
  },
  {
   "cell_type": "code",
   "execution_count": 54,
   "metadata": {},
   "outputs": [
    {
     "name": "stdout",
     "output_type": "stream",
     "text": [
      "item_id 4 4\n",
      "y_t [2, 0, 0]\n",
      "y_p [2, 0, 0]\n",
      "False\n",
      "<class 'list'>\n",
      "item_id 4 4\n",
      "y_t [2, 1]\n",
      "y_p [2, 0]\n",
      "False\n",
      "item_id 4 4\n",
      "y_t [0, 0, 0, 0]\n",
      "y_p [0, 0, 0, 0]\n",
      "True\n"
     ]
    }
   ],
   "source": [
    "#---------------------\n",
    "# initialization\n",
    "#---------------------\n",
    "ix = 0\n",
    "correct_preds, total_correct, total_preds = 0., 0., 0.\n",
    "\n",
    "for item_id, item_length in id_lengh_dict.items():\n",
    "    y_t_sentence = list(y_true[ix: ix + item_length])\n",
    "    y_p_sentence = list(y_pred[ix: ix + item_length])\n",
    "    print ('item_id',k, v)\n",
    "    print ('y_t',y_t_sentence)\n",
    "    print ('y_p',y_p_sentence)\n",
    "    print (all(v == 0 for v in y_t_sentence))\n",
    "    #----------\n",
    "    # core\n",
    "    #----------\n",
    "    if all(v == 0 for v in y_t_sentence):\n",
    "        pass\n",
    "    else:\n",
    "        # there is exiting atual y_true\n",
    "        total_correct += 1\n",
    "        if np.array_equal(y_t_sentence, y_p_sentence):\n",
    "            print(type(y_t_sentence))\n",
    "            # givne the case that we have actual y_ture and y_ture == y_pred\n",
    "            correct_preds += 1\n",
    "    if all(v == 0 for v in y_p_sentence):\n",
    "        pass\n",
    "    else:\n",
    "        total_preds += 1\n",
    "    ix += item_length\n",
    "#----------\n",
    "# output\n",
    "#----------\n",
    "p   = correct_preds / total_preds if correct_preds > 0 else 0\n",
    "r   = correct_preds / total_correct if correct_preds > 0 else 0\n",
    "f1  = 2 * p * r / (p + r) if correct_preds > 0 else 0\n",
    "# \n"
   ]
  },
  {
   "cell_type": "code",
   "execution_count": 50,
   "metadata": {},
   "outputs": [
    {
     "data": {
      "text/plain": [
       "12.337586797523002"
      ]
     },
     "execution_count": 50,
     "metadata": {},
     "output_type": "execute_result"
    }
   ],
   "source": [
    "9.6 / 0.7781100273132324"
   ]
  },
  {
   "cell_type": "code",
   "execution_count": 51,
   "metadata": {},
   "outputs": [
    {
     "data": {
      "text/plain": [
       "(1.0, 2.0, 2.0)"
      ]
     },
     "execution_count": 51,
     "metadata": {},
     "output_type": "execute_result"
    }
   ],
   "source": [
    "correct_preds, total_correct, total_preds"
   ]
  },
  {
   "cell_type": "code",
   "execution_count": 52,
   "metadata": {},
   "outputs": [
    {
     "data": {
      "text/plain": [
       "(0.5, 0.5, 0.5)"
      ]
     },
     "execution_count": 52,
     "metadata": {},
     "output_type": "execute_result"
    }
   ],
   "source": [
    "p,r,f1"
   ]
  },
  {
   "cell_type": "code",
   "execution_count": 24,
   "metadata": {},
   "outputs": [
    {
     "data": {
      "text/plain": [
       "1"
      ]
     },
     "execution_count": 24,
     "metadata": {},
     "output_type": "execute_result"
    }
   ],
   "source": [
    "y_true = np.array([s for s in y_true if sum(s)!=0])\n",
    "y_pred = np.array([s for s in y_pred if sum(s)!=0])\n",
    "\n",
    "correct_preds = y_pred==y_true\n",
    "correct_preds = correct_preds.astype(np.int).sum()\n",
    "correct_preds"
   ]
  },
  {
   "cell_type": "code",
   "execution_count": 25,
   "metadata": {},
   "outputs": [
    {
     "data": {
      "text/plain": [
       "1"
      ]
     },
     "execution_count": 25,
     "metadata": {},
     "output_type": "execute_result"
    }
   ],
   "source": [
    "correct_preds"
   ]
  },
  {
   "cell_type": "code",
   "execution_count": 26,
   "metadata": {},
   "outputs": [
    {
     "data": {
      "text/plain": [
       "2"
      ]
     },
     "execution_count": 26,
     "metadata": {},
     "output_type": "execute_result"
    }
   ],
   "source": [
    "total_correct = np.array([1 if s.count(0)!= len(s) else 0 for s in y_true]).sum()\n",
    "total_correct"
   ]
  },
  {
   "cell_type": "code",
   "execution_count": 27,
   "metadata": {},
   "outputs": [
    {
     "data": {
      "text/plain": [
       "2"
      ]
     },
     "execution_count": 27,
     "metadata": {},
     "output_type": "execute_result"
    }
   ],
   "source": [
    "total_preds = np.array([1 if s.count(0) != len(s) else 0 for s in y_pred]).sum()\n",
    "total_preds"
   ]
  },
  {
   "cell_type": "code",
   "execution_count": 28,
   "metadata": {},
   "outputs": [
    {
     "name": "stdout",
     "output_type": "stream",
     "text": [
      "[2, 0, 0]\n",
      "False\n",
      "[2, 0]\n",
      "False\n"
     ]
    }
   ],
   "source": [
    "for s in y_pred:\n",
    "    print (s)\n",
    "    print (s.count(0) == len(s))"
   ]
  },
  {
   "cell_type": "code",
   "execution_count": 78,
   "metadata": {},
   "outputs": [
    {
     "data": {
      "text/plain": [
       "7"
      ]
     },
     "execution_count": 78,
     "metadata": {},
     "output_type": "execute_result"
    }
   ],
   "source": [
    "len(item_id)"
   ]
  },
  {
   "cell_type": "code",
   "execution_count": 215,
   "metadata": {},
   "outputs": [],
   "source": [
    "tuple_id_index_counts = np.unique(item_id, axis=0, return_counts = True, return_index = True)"
   ]
  },
  {
   "cell_type": "code",
   "execution_count": 192,
   "metadata": {},
   "outputs": [
    {
     "data": {
      "text/plain": [
       "(array([4, 5, 6, 7]), array([ 7,  0,  4, 12]), array([5, 4, 3, 1]))"
      ]
     },
     "execution_count": 192,
     "metadata": {},
     "output_type": "execute_result"
    }
   ],
   "source": [
    "tuple_id_index_counts"
   ]
  },
  {
   "cell_type": "code",
   "execution_count": 191,
   "metadata": {},
   "outputs": [
    {
     "name": "stdout",
     "output_type": "stream",
     "text": [
      "4\n",
      "5\n",
      "6\n",
      "7\n"
     ]
    }
   ],
   "source": [
    "for item_id, index, counts in zip(tuple_id_index_counts[0],tuple_id_index_counts[1],tuple_id_index_counts[2]):\n",
    "    print (item_id)"
   ]
  },
  {
   "cell_type": "code",
   "execution_count": 216,
   "metadata": {},
   "outputs": [
    {
     "data": {
      "text/plain": [
       "OrderedCounter(OrderedDict([(5, 4), (6, 3)]))"
      ]
     },
     "execution_count": 216,
     "metadata": {},
     "output_type": "execute_result"
    }
   ],
   "source": [
    "from collections import Counter, OrderedDict\n",
    "\n",
    "class OrderedCounter(Counter, OrderedDict):\n",
    "    'Counter that remembers the order elements are first encountered'\n",
    "\n",
    "    def __repr__(self):\n",
    "        return '%s(%r)' % (self.__class__.__name__, OrderedDict(self))\n",
    "\n",
    "    def __reduce__(self):\n",
    "        return self.__class__, (OrderedDict(self),)\n",
    "\n",
    "words = [\"oranges\", \"apples\", \"apples\", \"bananas\", \"kiwis\", \"kiwis\", \"apples\"]\n",
    "c = OrderedCounter(words)\n",
    "#print(c)\n",
    "\n",
    "\n",
    "id_lengh_dict = OrderedCounter(list(item_id)) # need Counter is ordered key\n",
    "id_lengh_dict"
   ]
  },
  {
   "cell_type": "code",
   "execution_count": 207,
   "metadata": {},
   "outputs": [
    {
     "name": "stdout",
     "output_type": "stream",
     "text": [
      "id 5\n",
      "value 4\n",
      "id 6\n",
      "value 3\n",
      "id 4\n",
      "value 5\n",
      "id 7\n",
      "value 1\n"
     ]
    }
   ],
   "source": [
    "for k, v in id_lengh_dict.items():\n",
    "    print ('id',k)\n",
    "    print ('value',v)"
   ]
  },
  {
   "cell_type": "code",
   "execution_count": 81,
   "metadata": {},
   "outputs": [
    {
     "data": {
      "text/plain": [
       "array([[5],\n",
       "       [6]])"
      ]
     },
     "execution_count": 81,
     "metadata": {},
     "output_type": "execute_result"
    }
   ],
   "source": [
    "np.unique(item_id, axis=0)"
   ]
  },
  {
   "cell_type": "code",
   "execution_count": 230,
   "metadata": {},
   "outputs": [
    {
     "data": {
      "text/plain": [
       "(7,)"
      ]
     },
     "execution_count": 230,
     "metadata": {},
     "output_type": "execute_result"
    }
   ],
   "source": [
    "y_true = np.array([2,0,0,0,0,2,0])\n",
    "y_true.shape"
   ]
  },
  {
   "cell_type": "code",
   "execution_count": 231,
   "metadata": {},
   "outputs": [
    {
     "data": {
      "text/plain": [
       "array([2, 0, 0, 0, 0, 2, 0])"
      ]
     },
     "execution_count": 231,
     "metadata": {},
     "output_type": "execute_result"
    }
   ],
   "source": [
    "y_true"
   ]
  },
  {
   "cell_type": "code",
   "execution_count": 235,
   "metadata": {},
   "outputs": [],
   "source": [
    "y_pred = np.array([2,1,0,0,0,2,0])\n"
   ]
  },
  {
   "cell_type": "code",
   "execution_count": 236,
   "metadata": {},
   "outputs": [
    {
     "name": "stdout",
     "output_type": "stream",
     "text": [
      "idx 3\n",
      "k 5\n",
      "[2 0 0 0]\n",
      "idx 3\n",
      "k 6\n",
      "[0 2 0]\n"
     ]
    },
    {
     "data": {
      "text/plain": [
       "array([list([2, 0, 0, 0]), list([0, 2, 0])], dtype=object)"
      ]
     },
     "execution_count": 236,
     "metadata": {},
     "output_type": "execute_result"
    }
   ],
   "source": [
    "ix = 0\n",
    "y_true_ = []\n",
    "y_pred_ = []\n",
    "for k, v in id_lengh_dict.items():\n",
    "    print ('idx', idx)\n",
    "    print ('k',k)\n",
    "    print (y_true[ix: ix +v])\n",
    "    y_true_.append(list(y_true[ix: ix +v]))\n",
    "    y_pred_.append(list(y_pred[ix: ix +v]))\n",
    "    ix = v\n",
    "y_true_ = np.array(y_true_)\n",
    "y_pred_ = np.array(y_pred_)\n",
    "\n",
    "y_true_"
   ]
  },
  {
   "cell_type": "code",
   "execution_count": 237,
   "metadata": {},
   "outputs": [
    {
     "name": "stdout",
     "output_type": "stream",
     "text": [
      "total_correct 2\n",
      "total_preds 2\n",
      "correct_preds 1\n",
      "f1 0.5\n",
      "p 0.5\n",
      "r 0.5\n"
     ]
    }
   ],
   "source": [
    "total_correct = np.array([1 if s.count(0)!= len(s) else 0 for s in y_true_]).sum()\n",
    "total_preds = np.array([1 if s.count(0) != len(s) else 0 for s in y_pred_]).sum()\n",
    "correct_preds = y_pred_ == y_true_\n",
    "correct_preds = correct_preds.astype(np.int).sum()\n",
    "print ('total_correct',total_correct)\n",
    "print ('total_preds',total_preds)\n",
    "print ('correct_preds',correct_preds)\n",
    "if total_preds != 0:\n",
    "    p = correct_preds / total_preds\n",
    "else:\n",
    "    p = 0\n",
    "if total_correct != 0:\n",
    "    r = correct_preds / total_correct\n",
    "else:\n",
    "    r = 0\n",
    "if (p != 0) or (r != 0):\n",
    "    f1 = 2 * p * r / (p + r)\n",
    "else:\n",
    "    f1 = 0\n",
    "print ('f1', f1)\n",
    "print ('p', p)\n",
    "print ('r', r)\n"
   ]
  },
  {
   "cell_type": "code",
   "execution_count": 220,
   "metadata": {},
   "outputs": [
    {
     "data": {
      "text/plain": [
       "2"
      ]
     },
     "execution_count": 220,
     "metadata": {},
     "output_type": "execute_result"
    }
   ],
   "source": [
    "total_correct"
   ]
  },
  {
   "cell_type": "code",
   "execution_count": 221,
   "metadata": {},
   "outputs": [
    {
     "data": {
      "text/plain": [
       "1"
      ]
     },
     "execution_count": 221,
     "metadata": {},
     "output_type": "execute_result"
    }
   ],
   "source": [
    "total_preds"
   ]
  },
  {
   "cell_type": "code",
   "execution_count": 222,
   "metadata": {},
   "outputs": [
    {
     "data": {
      "text/plain": [
       "0"
      ]
     },
     "execution_count": 222,
     "metadata": {},
     "output_type": "execute_result"
    }
   ],
   "source": [
    "correct_preds"
   ]
  },
  {
   "cell_type": "code",
   "execution_count": 55,
   "metadata": {},
   "outputs": [
    {
     "data": {
      "text/plain": [
       "<function __main__.<lambda>(a, b, c)>"
      ]
     },
     "execution_count": 55,
     "metadata": {},
     "output_type": "execute_result"
    }
   ],
   "source": [
    "lambda a, b, c : a + b + c"
   ]
  },
  {
   "cell_type": "code",
   "execution_count": 59,
   "metadata": {},
   "outputs": [],
   "source": [
    "# closure\n",
    "def myfunc(x, y, index=None):\n",
    "    print (x)\n",
    "    print (y)\n",
    "    print (index)\n",
    "\n",
    "def genfunc(index):\n",
    "    def outputfunc(x, y):\n",
    "        myfunc(x, y, index)\n",
    "    return outputfunc\n",
    "\n",
    "\n",
    "# for i in range(10):\n",
    "#     printla = genfunc(i)\n",
    "#     printla(\"one\", \"two\")"
   ]
  },
  {
   "cell_type": "code",
   "execution_count": 61,
   "metadata": {},
   "outputs": [
    {
     "data": {
      "text/plain": [
       "<function __main__.genfunc.<locals>.outputfunc(x, y)>"
      ]
     },
     "execution_count": 61,
     "metadata": {},
     "output_type": "execute_result"
    }
   ],
   "source": [
    "genfunc(1)"
   ]
  },
  {
   "cell_type": "code",
   "execution_count": null,
   "metadata": {},
   "outputs": [],
   "source": []
  }
 ],
 "metadata": {
  "kernelspec": {
   "display_name": "Python 3",
   "language": "python",
   "name": "python3"
  },
  "language_info": {
   "codemirror_mode": {
    "name": "ipython",
    "version": 3
   },
   "file_extension": ".py",
   "mimetype": "text/x-python",
   "name": "python",
   "nbconvert_exporter": "python",
   "pygments_lexer": "ipython3",
   "version": "3.6.5"
  }
 },
 "nbformat": 4,
 "nbformat_minor": 2
}
