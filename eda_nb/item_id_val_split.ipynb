{
 "cells": [
  {
   "cell_type": "code",
   "execution_count": 1,
   "metadata": {},
   "outputs": [],
   "source": [
    "# split whole validating set\n",
    "import pandas as pd\n",
    "import numpy as np\n",
    "import os\n",
    "from glob import glob\n",
    "from sklearn.model_selection import train_test_split\n",
    "import ast # real json-like string\n"
   ]
  },
  {
   "cell_type": "code",
   "execution_count": 14,
   "metadata": {},
   "outputs": [
    {
     "data": {
      "text/plain": [
       "['mobile']"
      ]
     },
     "execution_count": 14,
     "metadata": {},
     "output_type": "execute_result"
    }
   ],
   "source": [
    "os.listdir('/data/ner_task/dress/shopee_data_tagging_result/')[-1:]"
   ]
  },
  {
   "cell_type": "code",
   "execution_count": 9,
   "metadata": {},
   "outputs": [
    {
     "data": {
      "text/plain": [
       "['/data/ner_task/dress/shopee_data_tagging_result/mobile/mobilebrand_tag_item0.csv',\n",
       " '/data/ner_task/dress/shopee_data_tagging_result/mobile/mobile_tag_item0.csv',\n",
       " '/data/ner_task/dress/shopee_data_tagging_result/mobile/mobile_ID_attribute_tagging.csv']"
      ]
     },
     "execution_count": 9,
     "metadata": {},
     "output_type": "execute_result"
    }
   ],
   "source": [
    "glob('/data/ner_task/dress/shopee_data_tagging_result/mobile/*.csv')"
   ]
  },
  {
   "cell_type": "code",
   "execution_count": 8,
   "metadata": {},
   "outputs": [
    {
     "name": "stdout",
     "output_type": "stream",
     "text": [
      "save_dir lips/Color Group\n",
      "save_dir lips/Makeup Lip Finish\n",
      "save_dir lips/Brand\n",
      "save_dir lips/Product Texture\n",
      "save_dir lips/Benefits of Lip Makeup\n"
     ]
    }
   ],
   "source": [
    "#-------------\n",
    "# setting\n",
    "#-------------\n",
    "out_col = ['itemid']\n",
    "val_size = 0.1\n",
    "seed = 19921030 # fixed\n",
    "for category in os.listdir('/data/ner_task/dress/shopee_data_tagging_result/')[:1]:\n",
    "    #print ('category', category)\n",
    "    path = glob('/data/ner_task/dress/shopee_data_tagging_result/{}/*.csv'.format(category))[0]\n",
    "    df = pd.read_csv(path)\n",
    "    ground_truth = df.columns[-1]\n",
    "    attribute_types = list(df[ground_truth].apply( lambda x: ast.literal_eval(x)).iloc[0].keys())\n",
    "    X = df[out_col].values\n",
    "    for attr in attribute_types[:]:\n",
    "#         print ('attr', attr.strip())\n",
    "        y = df[ground_truth]. \\\n",
    "        apply( lambda x: ast.literal_eval(x)). \\\n",
    "        apply( lambda x: x[attr][0][0] if x[attr] != 'no value' else x[attr]).values\n",
    "        # stratified split\n",
    "        X_train, X_test, y_train, y_test = train_test_split(X, y, test_size = val_size, random_state = seed)\n",
    "        X_train = pd.DataFrame(X_train, columns = out_col)\n",
    "        X_test = pd.DataFrame(X_test, columns = out_col)\n",
    "        #--------------\n",
    "        # save\n",
    "        #--------------\n",
    "        save_dir = '{}/{}'.format(category,attr.strip())\n",
    "        print ('save_dir', save_dir)\n",
    "        if not os.path.isdir(save_dir):\n",
    "            os.makedirs(save_dir)\n",
    "        X_train.to_csv(os.path.join(save_dir, 'train.csv'), index = False)\n",
    "        X_test.to_csv(os.path.join(save_dir, 'test.csv'), index = False)"
   ]
  },
  {
   "cell_type": "code",
   "execution_count": 108,
   "metadata": {},
   "outputs": [
    {
     "data": {
      "text/plain": [
       "(126467, 1)"
      ]
     },
     "execution_count": 108,
     "metadata": {},
     "output_type": "execute_result"
    }
   ],
   "source": [
    "# ground_truth = pd.read_csv(path[0]).head().columns[-1]\n",
    "# attribute_types = list(pd.read_csv(path[0]).head()[ground_truth].apply( lambda x: ast.literal_eval(x)).iloc[0].keys())\n",
    "# for attr in attribute_types:\n",
    "#     X = \n",
    "#     y = pd.read_csv(path[0]).head()[ground_truth]. \\\n",
    "#     apply( lambda x: ast.literal_eval(x)). \\\n",
    "#     apply(lambda x: x[attr][0][0] if x[attr] != 'no value' else x[attr])\n",
    "    \n",
    "#     print (\n",
    "#         'label',label\n",
    "#           )\n",
    "X_train.shape"
   ]
  },
  {
   "cell_type": "code",
   "execution_count": 109,
   "metadata": {},
   "outputs": [
    {
     "data": {
      "text/plain": [
       "(14052, 1)"
      ]
     },
     "execution_count": 109,
     "metadata": {},
     "output_type": "execute_result"
    }
   ],
   "source": [
    "X_test.shape"
   ]
  },
  {
   "cell_type": "code",
   "execution_count": 29,
   "metadata": {},
   "outputs": [],
   "source": [
    "# shoope_data = pd.read_csv(path[3])[out_col]\n",
    "# shoope_data.drop_duplicates(subset = ['itemid'], inplace = True)\n",
    "# val_itemid = set(pd.Series(shoope_data.itemid.unique()).sample(frac = val_size).unique())\n",
    "# train = shoope_data[~shoope_data.itemid.isin(val_itemid)]\n",
    "# val = shoope_data[shoope_data.itemid.isin(val_itemid)]"
   ]
  },
  {
   "cell_type": "code",
   "execution_count": 112,
   "metadata": {},
   "outputs": [
    {
     "data": {
      "text/plain": [
       "True"
      ]
     },
     "execution_count": 112,
     "metadata": {},
     "output_type": "execute_result"
    }
   ],
   "source": [
    "X.shape[0] == 126467 + 14052"
   ]
  },
  {
   "cell_type": "code",
   "execution_count": 113,
   "metadata": {},
   "outputs": [],
   "source": [
    "#help(train_test_split)"
   ]
  },
  {
   "cell_type": "code",
   "execution_count": 89,
   "metadata": {},
   "outputs": [],
   "source": [
    "X_train, X_test, y_train, y_test = train_test_split(X, y, test_size = 0.1, random_state = 19921030)"
   ]
  },
  {
   "cell_type": "code",
   "execution_count": 92,
   "metadata": {},
   "outputs": [
    {
     "data": {
      "text/plain": [
       "array([[14803829],\n",
       "       [ 2866256],\n",
       "       [21545508],\n",
       "       [34568520]])"
      ]
     },
     "execution_count": 92,
     "metadata": {},
     "output_type": "execute_result"
    }
   ],
   "source": [
    "X_train"
   ]
  },
  {
   "cell_type": "code",
   "execution_count": 93,
   "metadata": {},
   "outputs": [
    {
     "data": {
      "text/plain": [
       "array([[15761625]])"
      ]
     },
     "execution_count": 93,
     "metadata": {},
     "output_type": "execute_result"
    }
   ],
   "source": [
    "X_test"
   ]
  },
  {
   "cell_type": "code",
   "execution_count": 94,
   "metadata": {},
   "outputs": [
    {
     "data": {
      "text/plain": [
       "array(['no value', 'no value', 'no value', 'no value'], dtype=object)"
      ]
     },
     "execution_count": 94,
     "metadata": {},
     "output_type": "execute_result"
    }
   ],
   "source": [
    "y_train"
   ]
  },
  {
   "cell_type": "code",
   "execution_count": 95,
   "metadata": {},
   "outputs": [
    {
     "data": {
      "text/plain": [
       "array(['no value'], dtype=object)"
      ]
     },
     "execution_count": 95,
     "metadata": {},
     "output_type": "execute_result"
    }
   ],
   "source": [
    "y_test"
   ]
  },
  {
   "cell_type": "code",
   "execution_count": null,
   "metadata": {},
   "outputs": [],
   "source": []
  }
 ],
 "metadata": {
  "kernelspec": {
   "display_name": "Python 3",
   "language": "python",
   "name": "python3"
  },
  "language_info": {
   "codemirror_mode": {
    "name": "ipython",
    "version": 3
   },
   "file_extension": ".py",
   "mimetype": "text/x-python",
   "name": "python",
   "nbconvert_exporter": "python",
   "pygments_lexer": "ipython3",
   "version": "3.6.5"
  }
 },
 "nbformat": 4,
 "nbformat_minor": 2
}
