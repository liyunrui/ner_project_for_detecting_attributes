{
 "cells": [
  {
   "cell_type": "code",
   "execution_count": 3,
   "metadata": {},
   "outputs": [],
   "source": [
    "'''\n",
    "We will combine the manual extracted features and hidden feature from neural network here.\n",
    "\n",
    "-The reason we mix features before tree-based model:\n",
    "    1.It may have memory problem that we feed manual extracted features into tensor.\n",
    "    2.our manual features may interupt our model learned features from raw data. \n",
    "'''\n",
    "import numpy as np\n",
    "import pandas as pd"
   ]
  },
  {
   "cell_type": "code",
   "execution_count": null,
   "metadata": {},
   "outputs": [],
   "source": [
    "##################################################\n",
    "# manual extracted features\n",
    "##################################################"
   ]
  },
  {
   "cell_type": "code",
   "execution_count": 2,
   "metadata": {},
   "outputs": [],
   "source": [
    "##################################################\n",
    "# nn feature representations\n",
    "##################################################\n",
    "'''\n",
    "The principle for using NN to extract features to do time-series prediction\n",
    "is take hidden output of NN which is the latest available information on the temporal axis as features.\n",
    "\n",
    "'''\n",
    "#-----------------------\n",
    "# lodaing hidden features\n",
    "#-----------------------\n",
    "item_id = np.load('predictions/item_id.npy')\n",
    "word_id = np.load('predictions/word_id.npy')\n",
    "final_states = np.load('predictions/final_states.npy')\n",
    "final_predictions = np.load('predictions/final_predictions.npy')\n",
    "#label = np.load('data/label.npy')"
   ]
  },
  {
   "cell_type": "code",
   "execution_count": null,
   "metadata": {},
   "outputs": [],
   "source": []
  }
 ],
 "metadata": {
  "kernelspec": {
   "display_name": "Python 3",
   "language": "python",
   "name": "python3"
  },
  "language_info": {
   "codemirror_mode": {
    "name": "ipython",
    "version": 3
   },
   "file_extension": ".py",
   "mimetype": "text/x-python",
   "name": "python",
   "nbconvert_exporter": "python",
   "pygments_lexer": "ipython3",
   "version": "3.6.5"
  }
 },
 "nbformat": 4,
 "nbformat_minor": 2
}
