{
 "cells": [
  {
   "cell_type": "code",
   "execution_count": null,
   "metadata": {},
   "outputs": [],
   "source": [
    "repr([7760935])"
   ]
  },
  {
   "cell_type": "code",
   "execution_count": null,
   "metadata": {},
   "outputs": [],
   "source": [
    "import pandas as pd\n",
    "mobile = pd.read_csv('/data/ner_task/mobile/mobile_ID_attribute_tagging.csv')\n",
    "mobile.itemid.nunique()"
   ]
  },
  {
   "cell_type": "code",
   "execution_count": null,
   "metadata": {},
   "outputs": [],
   "source": [
    "mobile.shape"
   ]
  },
  {
   "cell_type": "code",
   "execution_count": null,
   "metadata": {},
   "outputs": [],
   "source": [
    "query = \"\"\"\n",
    "SELECT itemid, item_ctime FROM item_profile\n",
    "WHERE (country = 'ID') and (itemid IN ({}))\n",
    "LIMIT 10\n",
    "\"\"\".format(repr(mobile.itemid.unique().tolist()[:3])[1:-1])\n",
    "query"
   ]
  },
  {
   "cell_type": "code",
   "execution_count": null,
   "metadata": {},
   "outputs": [],
   "source": [
    "mobile.head()"
   ]
  },
  {
   "cell_type": "code",
   "execution_count": null,
   "metadata": {},
   "outputs": [],
   "source": [
    "df = pd.merge(df1,df2, on = 'itemid', how = 'left')"
   ]
  },
  {
   "cell_type": "code",
   "execution_count": null,
   "metadata": {},
   "outputs": [],
   "source": [
    "mobile = pd.read_csv('/data/ner_task/mobile/mobile_ID_attribute_tagging_v2.csv')\n",
    "mobile.drop_duplicates(subset = ['itemid'], inplace = True)"
   ]
  },
  {
   "cell_type": "code",
   "execution_count": null,
   "metadata": {},
   "outputs": [],
   "source": [
    "mobile.shape"
   ]
  },
  {
   "cell_type": "code",
   "execution_count": null,
   "metadata": {},
   "outputs": [],
   "source": [
    "mobile[mobile.itemid == 211724022]"
   ]
  },
  {
   "cell_type": "markdown",
   "metadata": {},
   "source": [
    "# Create time-related Train and Test dataset over current 4 category of POC"
   ]
  },
  {
   "cell_type": "code",
   "execution_count": null,
   "metadata": {},
   "outputs": [],
   "source": [
    "mobile['item_ctime'] = pd.to_datetime(mobile.item_ctime)\n",
    "mobile.sort_values(by = 'item_ctime', inplace = True)\n",
    "n = int(mobile.shape[0] * 0.8)\n",
    "train_test_timestamp = mobile.iloc[n].item_ctime\n",
    "train_test_timestamp"
   ]
  },
  {
   "cell_type": "code",
   "execution_count": null,
   "metadata": {},
   "outputs": [],
   "source": [
    "mobile['eval_set'] = ['test' if t >= train_test_timestamp else 'train' for t in mobile['item_ctime']]\n",
    "#mobile[ mobile['item_ctime'] < train_test_timestamp]"
   ]
  },
  {
   "cell_type": "code",
   "execution_count": null,
   "metadata": {},
   "outputs": [],
   "source": [
    "mobile[mobile['eval_set'] == 'train'].shape"
   ]
  },
  {
   "cell_type": "code",
   "execution_count": null,
   "metadata": {},
   "outputs": [],
   "source": [
    "mobile[mobile['eval_set'] == 'test'].shape"
   ]
  },
  {
   "cell_type": "code",
   "execution_count": null,
   "metadata": {},
   "outputs": [],
   "source": [
    "61958+247831 == mobile.shape[0]"
   ]
  },
  {
   "cell_type": "code",
   "execution_count": null,
   "metadata": {},
   "outputs": [],
   "source": [
    "mobile[mobile['eval_set'] == 'train'].item_ctime.min()"
   ]
  },
  {
   "cell_type": "code",
   "execution_count": null,
   "metadata": {},
   "outputs": [],
   "source": [
    "mobile[mobile['eval_set'] == 'train'].item_ctime.max()"
   ]
  },
  {
   "cell_type": "code",
   "execution_count": null,
   "metadata": {},
   "outputs": [],
   "source": [
    "mobile[mobile['eval_set'] == 'test'].item_ctime.min()"
   ]
  },
  {
   "cell_type": "code",
   "execution_count": null,
   "metadata": {},
   "outputs": [],
   "source": [
    "mobile[mobile['eval_set'] == 'test'].item_ctime.max()"
   ]
  },
  {
   "cell_type": "code",
   "execution_count": null,
   "metadata": {},
   "outputs": [],
   "source": [
    "mobile.shape"
   ]
  },
  {
   "cell_type": "code",
   "execution_count": null,
   "metadata": {},
   "outputs": [],
   "source": [
    "df = pd.read_csv('/data/ner_task/dress/shopee_data_tagging_result/face/face_ID_attribute_tagging_v2.csv', \n",
    "            nrows = 3, \n",
    "                )\n",
    "df.columns.tolist()"
   ]
  },
  {
   "cell_type": "markdown",
   "metadata": {},
   "source": [
    "# create competition data\n",
    "### add description\n",
    "### chang face, mobile,... into common denominator label field\n",
    "### "
   ]
  },
  {
   "cell_type": "code",
   "execution_count": null,
   "metadata": {},
   "outputs": [],
   "source": [
    "file_path = [\n",
    "'/data/ner_task/dress/shopee_data_tagging_result/dress/dress_ID_attribute_tagging_v2.csv',\n",
    "'/data/ner_task/dress/shopee_data_tagging_result/face/face_ID_attribute_tagging_v2.csv',\n",
    "'/data/ner_task/dress/shopee_data_tagging_result/lips/lips_ID_attribute_tagging_v2.csv',\n",
    "'/data/ner_task/dress/shopee_data_tagging_result/mobile/mobile_ID_attribute_tagging_v2.csv',\n",
    "'/data/ner_task/dress/shopee_data_tagging_result/women_top/women_top_ID_attribute_tagging_v2.csv'\n",
    "]\n",
    "ls = ['itemid',\n",
    " 'title',\n",
    " 'image_urls',\n",
    " 'l1',\n",
    " 'l2',\n",
    " 'l3',\n",
    " '1_gram',\n",
    " '2_gram',\n",
    " '3_gram',\n",
    " 'item_ctime',\n",
    " 'eval_set']\n",
    "#all_df = pd.concat([pd.read_csv(f) for f in file_path], axis = 0)\n",
    "output = []\n",
    "for f in file_path:\n",
    "    df = pd.read_csv(f)\n",
    "    df.columns = ['label' if f not in ls else f for f in df.columns.tolist()]\n",
    "    output.append(df)\n",
    "all_df = pd.concat(output, axis = 0)"
   ]
  },
  {
   "cell_type": "code",
   "execution_count": null,
   "metadata": {},
   "outputs": [],
   "source": [
    "all_df.shape"
   ]
  },
  {
   "cell_type": "code",
   "execution_count": null,
   "metadata": {},
   "outputs": [],
   "source": [
    "all_df.head()"
   ]
  },
  {
   "cell_type": "code",
   "execution_count": 2,
   "metadata": {},
   "outputs": [
    {
     "name": "stderr",
     "output_type": "stream",
     "text": [
      "/home/linuxbrew/.linuxbrew/opt/python/lib/python3.6/site-packages/IPython/core/interactiveshell.py:2785: DtypeWarning: Columns (0) have mixed types. Specify dtype option on import or set low_memory=False.\n",
      "  interactivity=interactivity, compiler=compiler, result=result)\n"
     ]
    }
   ],
   "source": [
    "import pandas as pd\n",
    "com = pd.read_csv('/data/shopee_competition/text/attribute_tagging_competition.csv')"
   ]
  },
  {
   "cell_type": "code",
   "execution_count": 3,
   "metadata": {},
   "outputs": [
    {
     "data": {
      "text/html": [
       "<div>\n",
       "<style scoped>\n",
       "    .dataframe tbody tr th:only-of-type {\n",
       "        vertical-align: middle;\n",
       "    }\n",
       "\n",
       "    .dataframe tbody tr th {\n",
       "        vertical-align: top;\n",
       "    }\n",
       "\n",
       "    .dataframe thead th {\n",
       "        text-align: right;\n",
       "    }\n",
       "</style>\n",
       "<table border=\"1\" class=\"dataframe\">\n",
       "  <thead>\n",
       "    <tr style=\"text-align: right;\">\n",
       "      <th></th>\n",
       "      <th>itemid</th>\n",
       "      <th>title</th>\n",
       "      <th>image_urls</th>\n",
       "      <th>l1</th>\n",
       "      <th>l2</th>\n",
       "      <th>l3</th>\n",
       "      <th>1_gram</th>\n",
       "      <th>2_gram</th>\n",
       "      <th>3_gram</th>\n",
       "      <th>label</th>\n",
       "      <th>item_ctime</th>\n",
       "      <th>eval_set</th>\n",
       "      <th>description</th>\n",
       "    </tr>\n",
       "  </thead>\n",
       "  <tbody>\n",
       "    <tr>\n",
       "      <th>0</th>\n",
       "      <td>103565</td>\n",
       "      <td>dress import hijau sifon onlineshop murah cd-252</td>\n",
       "      <td>['f987aa28f068a9cbbd9439cd298216e5', '0717ea95...</td>\n",
       "      <td>Women Clothes</td>\n",
       "      <td>Dress</td>\n",
       "      <td>Casual Dress</td>\n",
       "      <td>[('dress', '2'), ('sifon', '1'), ('casual', '1...</td>\n",
       "      <td>[('import casual', '1'), ('sifon import', '1')...</td>\n",
       "      <td>[('sifon import casual', '1'), ('dress sifon i...</td>\n",
       "      <td>{' Dress Length': 'no value', ' Collar Type': ...</td>\n",
       "      <td>2015-05-21 21:06:49</td>\n",
       "      <td>train</td>\n",
       "      <td>100% IMPORT, NO REPLIKA 👍\\n\\nBahan Sifon Korea...</td>\n",
       "    </tr>\n",
       "    <tr>\n",
       "      <th>1</th>\n",
       "      <td>193241</td>\n",
       "      <td>londgress brukat</td>\n",
       "      <td>['9ff95c8c47b92890fe57b7563b7e9a19']</td>\n",
       "      <td>Women Clothes</td>\n",
       "      <td>Dress</td>\n",
       "      <td>Casual Dress</td>\n",
       "      <td>[('brukat', '3'), ('dress', '2'), ('brokat', '...</td>\n",
       "      <td>[('dress brukat', '2')]</td>\n",
       "      <td>[]</td>\n",
       "      <td>{' Dress Length': 'no value', ' Collar Type': ...</td>\n",
       "      <td>2015-06-17 14:00:51</td>\n",
       "      <td>train</td>\n",
       "      <td>Bahan : twiscon+brukat\\nUkuran : LD 86cm P 127...</td>\n",
       "    </tr>\n",
       "    <tr>\n",
       "      <th>2</th>\n",
       "      <td>254350</td>\n",
       "      <td>floral blue dress by zalora</td>\n",
       "      <td>['be22750cd3e28cbf7355b6a8276cc4b3', '4898c361...</td>\n",
       "      <td>Women Clothes</td>\n",
       "      <td>Dress</td>\n",
       "      <td>Casual Dress</td>\n",
       "      <td>[('dress', '1'), ('zalora', '1')]</td>\n",
       "      <td>[('zalora dress', '1')]</td>\n",
       "      <td>[]</td>\n",
       "      <td>{' Dress Length': 'no value', ' Collar Type': ...</td>\n",
       "      <td>2015-06-30 10:53:59</td>\n",
       "      <td>train</td>\n",
       "      <td>Size : M fit to XL</td>\n",
       "    </tr>\n",
       "    <tr>\n",
       "      <th>3</th>\n",
       "      <td>385458</td>\n",
       "      <td>white dior dress</td>\n",
       "      <td>['9d7c249a9fbdc0fcd068613606580906']</td>\n",
       "      <td>Women Clothes</td>\n",
       "      <td>Dress</td>\n",
       "      <td>Casual Dress</td>\n",
       "      <td>[('dior', '1')]</td>\n",
       "      <td>[]</td>\n",
       "      <td>[]</td>\n",
       "      <td>{' Dress Length': 'no value', ' Collar Type': ...</td>\n",
       "      <td>2015-07-19 02:26:30</td>\n",
       "      <td>train</td>\n",
       "      <td>Ld 76 \\nSize S \\nImport US\\n\\nLimited edition ;)</td>\n",
       "    </tr>\n",
       "    <tr>\n",
       "      <th>4</th>\n",
       "      <td>505033</td>\n",
       "      <td>maxi dress jeans button</td>\n",
       "      <td>['9405bc1c5a2e1e92ae355464a9c0133e']</td>\n",
       "      <td>Women Clothes</td>\n",
       "      <td>Dress</td>\n",
       "      <td>Maxi Dress</td>\n",
       "      <td>[('jeans', '2'), ('button', '2'), ('maxi', '1'...</td>\n",
       "      <td>[('button maxi', '1'), ('maxi jeans', '1'), ('...</td>\n",
       "      <td>[('dress jeans button', '1'), ('button maxi je...</td>\n",
       "      <td>{' Dress Length': [('Maxi', '5')], ' Collar Ty...</td>\n",
       "      <td>2015-07-30 19:57:57</td>\n",
       "      <td>train</td>\n",
       "      <td>Material : Jeans\\nFree size fit to L\\nHarga be...</td>\n",
       "    </tr>\n",
       "  </tbody>\n",
       "</table>\n",
       "</div>"
      ],
      "text/plain": [
       "   itemid                                             title  \\\n",
       "0  103565  dress import hijau sifon onlineshop murah cd-252   \n",
       "1  193241                                  londgress brukat   \n",
       "2  254350                       floral blue dress by zalora   \n",
       "3  385458                                  white dior dress   \n",
       "4  505033                           maxi dress jeans button   \n",
       "\n",
       "                                          image_urls             l1     l2  \\\n",
       "0  ['f987aa28f068a9cbbd9439cd298216e5', '0717ea95...  Women Clothes  Dress   \n",
       "1               ['9ff95c8c47b92890fe57b7563b7e9a19']  Women Clothes  Dress   \n",
       "2  ['be22750cd3e28cbf7355b6a8276cc4b3', '4898c361...  Women Clothes  Dress   \n",
       "3               ['9d7c249a9fbdc0fcd068613606580906']  Women Clothes  Dress   \n",
       "4               ['9405bc1c5a2e1e92ae355464a9c0133e']  Women Clothes  Dress   \n",
       "\n",
       "             l3                                             1_gram  \\\n",
       "0  Casual Dress  [('dress', '2'), ('sifon', '1'), ('casual', '1...   \n",
       "1  Casual Dress  [('brukat', '3'), ('dress', '2'), ('brokat', '...   \n",
       "2  Casual Dress                  [('dress', '1'), ('zalora', '1')]   \n",
       "3  Casual Dress                                    [('dior', '1')]   \n",
       "4    Maxi Dress  [('jeans', '2'), ('button', '2'), ('maxi', '1'...   \n",
       "\n",
       "                                              2_gram  \\\n",
       "0  [('import casual', '1'), ('sifon import', '1')...   \n",
       "1                            [('dress brukat', '2')]   \n",
       "2                            [('zalora dress', '1')]   \n",
       "3                                                 []   \n",
       "4  [('button maxi', '1'), ('maxi jeans', '1'), ('...   \n",
       "\n",
       "                                              3_gram  \\\n",
       "0  [('sifon import casual', '1'), ('dress sifon i...   \n",
       "1                                                 []   \n",
       "2                                                 []   \n",
       "3                                                 []   \n",
       "4  [('dress jeans button', '1'), ('button maxi je...   \n",
       "\n",
       "                                               label           item_ctime  \\\n",
       "0  {' Dress Length': 'no value', ' Collar Type': ...  2015-05-21 21:06:49   \n",
       "1  {' Dress Length': 'no value', ' Collar Type': ...  2015-06-17 14:00:51   \n",
       "2  {' Dress Length': 'no value', ' Collar Type': ...  2015-06-30 10:53:59   \n",
       "3  {' Dress Length': 'no value', ' Collar Type': ...  2015-07-19 02:26:30   \n",
       "4  {' Dress Length': [('Maxi', '5')], ' Collar Ty...  2015-07-30 19:57:57   \n",
       "\n",
       "  eval_set                                        description  \n",
       "0    train  100% IMPORT, NO REPLIKA 👍\\n\\nBahan Sifon Korea...  \n",
       "1    train  Bahan : twiscon+brukat\\nUkuran : LD 86cm P 127...  \n",
       "2    train                                 Size : M fit to XL  \n",
       "3    train   Ld 76 \\nSize S \\nImport US\\n\\nLimited edition ;)  \n",
       "4    train  Material : Jeans\\nFree size fit to L\\nHarga be...  "
      ]
     },
     "execution_count": 3,
     "metadata": {},
     "output_type": "execute_result"
    }
   ],
   "source": [
    "com.head()"
   ]
  },
  {
   "cell_type": "code",
   "execution_count": null,
   "metadata": {},
   "outputs": [],
   "source": []
  }
 ],
 "metadata": {
  "kernelspec": {
   "display_name": "Python 3",
   "language": "python",
   "name": "python3"
  },
  "language_info": {
   "codemirror_mode": {
    "name": "ipython",
    "version": 3
   },
   "file_extension": ".py",
   "mimetype": "text/x-python",
   "name": "python",
   "nbconvert_exporter": "python",
   "pygments_lexer": "ipython3",
   "version": "3.6.5"
  }
 },
 "nbformat": 4,
 "nbformat_minor": 2
}
