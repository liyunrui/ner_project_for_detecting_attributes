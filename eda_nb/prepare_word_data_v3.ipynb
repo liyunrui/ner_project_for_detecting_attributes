{
 "cells": [
  {
   "cell_type": "code",
   "execution_count": 1,
   "metadata": {},
   "outputs": [
    {
     "name": "stderr",
     "output_type": "stream",
     "text": [
      "it spend 0.2774062951405843 mins on preprocessing\n"
     ]
    },
    {
     "name": "stdout",
     "output_type": "stream",
     "text": [
      "Building vocab...\n",
      "- done. 6629250 tokens\n",
      "Writing vocab...\n",
      "- done. 27621 tokens\n"
     ]
    },
    {
     "name": "stderr",
     "output_type": "stream",
     "text": [
      "it spend 15.054399271806082 mins on word embedding \n",
      "max_seq_length : 36\n"
     ]
    }
   ],
   "source": [
    "#! /usr/bin/env python3\n",
    "\"\"\"\n",
    "Created on Oct 2 2018\n",
    "\n",
    "Updated on Oct 24 2018\n",
    "\n",
    "Prepare data for the following tensorflow model.\n",
    "\n",
    "Noticed:\n",
    "    It may take around 13.935157557328543 mins, the real number depends on ur machine.\n",
    "\n",
    "@author: Ray\n",
    "\n",
    "TO do list in the future:\n",
    "    - character embedding\n",
    "        - padding for char_ids\n",
    "        - tf.placeholder for char_ids (tf.int32, shape=[None, None, None],\n",
    "                        name=\"char_ids\")\n",
    "Reference:\n",
    "\t- character embedding:https://github.com/cristianoBY/Sequence-Tagging-NER-TensorFlow\n",
    "\"\"\"\n",
    "import os\n",
    "import time\n",
    "import sys\n",
    "import numpy as np\n",
    "import pandas as pd\n",
    "from tqdm import tqdm\n",
    "import gc\n",
    "sys.path.append('/home/ld-sgdev/yunrui_li/ner_project/brand_recognition_bio_FE/preprocessing')\n",
    "sys.path.append('/home/ld-sgdev/yunrui_li/ner_project/brand_recognition_bio_FE/py_model')\n",
    "sys.path.append('../models/')\n",
    "from clean_helpers import clean_name_for_word_embedding\n",
    "from utils import init_logging\n",
    "from data_utils import get_glove_vocab\n",
    "from data_utils import write_vocab\n",
    "from data_utils import load_vocab_and_return_word_to_id_dict\n",
    "from data_utils import export_glove_vectors\n",
    "import logging\n",
    "import gc\n",
    "\n",
    "pd.options.display.max_columns = 100\n",
    "pd.options.display.max_rows = 5000\n",
    "pd.options.display.max_colwidth = 1000\n",
    "\n",
    "\n",
    "def pad_1d(array, max_len, word_padding = True):\n",
    "    if word_padding == True:\n",
    "        array = array[:max_len]\n",
    "        length = len(array)\n",
    "        padded = array + [9858]*(max_len - len(array)) # padded index of unknown.\n",
    "    else:\n",
    "        array = array[:max_len]\n",
    "        length = len(array)\n",
    "        padded = array + [0]*(max_len - len(array)) # padded with zero.\n",
    "    return padded, length\n",
    "\n",
    "def encode_word_to_idx(word, word_to_id, vocabulary_set, lowercase = True, allow_unknown = True):\n",
    "    '''encode a word (string) into id'''\n",
    "\n",
    "    # 1. preprocess word\n",
    "    if lowercase:\n",
    "        word = word.lower()\n",
    "    if word.isdigit():\n",
    "        word = NUM\n",
    "\n",
    "    # 2. get id of word\n",
    "    if word in vocabulary_set:\n",
    "        return word_to_id[word]\n",
    "    else:\n",
    "        if allow_unknown:\n",
    "            return word_to_id[UNK]\n",
    "        else:\n",
    "            raise Exception(\"Unknow key is not allowed. Check that your vocab (tags?) is correct\")\n",
    "\n",
    "#--------------------\n",
    "# setting\n",
    "#--------------------\n",
    "TRACE_CODE = False # for tracing funtionality and developing quickly\n",
    "TRUNCATED = False # for reducing memory \n",
    "LOWERCASE = True\n",
    "ALLOW_UNKNOWN = True\n",
    "dim_word = 300\n",
    "UNK = \"$UNK$\" # for the word in our own courpus which is unknown in embedding\n",
    "NUM = \"$NUM$\" # for the word which is number\n",
    "\n",
    "base_dir = \"../models/data/wordvec\"\n",
    "filename_words_voc = \"../models/data/wordvec/words_vocab.txt\"\n",
    "filename_chars_voc = \"../models/data/wordvec/chars_vocab.txt\"\n",
    "\n",
    "pre_trained_word_embedding_path = \"/data/ID_largewv_300_2.txt\"\n",
    "filename_words_vec = \"../models/data/wordvec/word2vec.npz\".format(dim_word)\n",
    "log_dir = 'log/' # log path\n",
    "init_logging(log_dir)\n",
    "\n",
    "\n",
    "#-------------------\n",
    "# loading data\n",
    "#-------------------\n",
    "if TRACE_CODE == True:\n",
    "    df = pd.read_csv('../data/processed/mobile_training_v2.csv', nrows = 19)\n",
    "else:\n",
    "    df = pd.read_csv('../data/processed/mobile_training_v2.csv')\n",
    "\n",
    "s = time.time()\n",
    "\n",
    "# preprocessing\n",
    "df['clean_tokens'] = df.tokens.apply(lambda x: clean_name_for_word_embedding(x) if type(x)==str else x)\n",
    "if LOWERCASE:\n",
    "\tdf['clean_tokens'] = df.clean_tokens.apply(lambda x: x.lower() if type(x)==str else x)\n",
    "df['clean_tokens'] = df.clean_tokens.astype(str)\n",
    "\n",
    "# item_id\n",
    "item_dict = {}\n",
    "for i, i_n in enumerate(df.item_name.unique().tolist()):\n",
    "    item_dict[i_n] = i+1\n",
    "df['item_id'] = [item_dict[i_n] for i_n in df.item_name.tolist()]\n",
    "\n",
    "e = time.time()\n",
    "logging.info('it spend {} mins on preprocessing'.format( (e-s) / 60.0))\n",
    "\n",
    "#-------------------\n",
    "# word embedding \n",
    "#-------------------\n",
    "s = time.time()\n",
    "# Build Word vocab (vocabulary set) for our customized task\n",
    "vocab_glove = get_glove_vocab(pre_trained_word_embedding_path) # word set from pre-trained word_embedding\n",
    "vocab_words = set(df.clean_tokens.tolist()) # word set from our own whole corpurs including train, dev, and test\n",
    "vocab_set = vocab_words & vocab_glove # 這裡面的字, 肯定都有相對應的vector, 不是zero vector(The reason we did是可以節省我們使用的embbedding大小, 不用沒用到的pre-trained字也佔memory)\n",
    "vocab_set.add(UNK)\n",
    "vocab_set.add(NUM)\n",
    "\n",
    "# Save vocab\n",
    "write_vocab(vocab_set, base_dir, filename_words_voc)\n",
    "# create dictionary mapping word to index\n",
    "word_to_id_dict = load_vocab_and_return_word_to_id_dict(filename_words_voc)\n",
    "# save word embedding matrix \n",
    "export_glove_vectors(word_to_id_dict, glove_filename = pre_trained_word_embedding_path,\n",
    "                     output_filename = filename_words_vec, dim = dim_word)\n",
    "# encode a word (string) into id\n",
    "df['word_id'] = df.clean_tokens.apply( lambda x: encode_word_to_idx(x, word_to_id_dict, vocab_set, LOWERCASE, ALLOW_UNKNOWN))\n",
    "\n",
    "#-------------------\n",
    "# chracter embedding \n",
    "#-------------------\n",
    "\n",
    "e = time.time()\n",
    "logging.info('it spend {} mins on word embedding '.format( (e-s) / 60.0)) \n",
    "\n",
    "\n",
    "\n",
    "\n",
    "seq_len_distribution = df.groupby('item_name').tokens.apply( lambda x : len(x.tolist())).to_frame('seq_len').reset_index()\n",
    "\n",
    "if TRUNCATED == False:\n",
    "    if TRACE_CODE == True:\n",
    "        max_seq_length = 122\n",
    "    else:\n",
    "        max_seq_length = seq_len_distribution.seq_len.max()\n",
    "else:\n",
    "    max_seq_length = 100\n",
    "\n",
    "logging.info('max_seq_length : {}'.format( max_seq_length)) \n"
   ]
  },
  {
   "cell_type": "code",
   "execution_count": 2,
   "metadata": {},
   "outputs": [
    {
     "data": {
      "text/plain": [
       "37788"
      ]
     },
     "execution_count": 2,
     "metadata": {},
     "output_type": "execute_result"
    }
   ],
   "source": [
    "df.clean_tokens.nunique()"
   ]
  },
  {
   "cell_type": "code",
   "execution_count": 3,
   "metadata": {},
   "outputs": [],
   "source": [
    "from data_utils import get_char_vocab\n"
   ]
  },
  {
   "cell_type": "code",
   "execution_count": 4,
   "metadata": {},
   "outputs": [
    {
     "name": "stdout",
     "output_type": "stream",
     "text": [
      "Writing vocab...\n",
      "- done. 77 tokens\n"
     ]
    }
   ],
   "source": [
    "dim_char = 100\n",
    "# Build Char vocab (vocabulary set) \n",
    "vocab_chars = get_char_vocab(df.tokens)\n",
    "# Save Char vocab\n",
    "write_vocab(vocab_chars, base_dir, filename_chars_voc)\n",
    "# create dictionary mapping char to index\n",
    "chars_to_id_dict = load_vocab_and_return_word_to_id_dict(filename_chars_voc)\n",
    "# encode a char of words (string) into id\n"
   ]
  },
  {
   "cell_type": "code",
   "execution_count": 5,
   "metadata": {},
   "outputs": [
    {
     "data": {
      "text/html": [
       "<div>\n",
       "<style scoped>\n",
       "    .dataframe tbody tr th:only-of-type {\n",
       "        vertical-align: middle;\n",
       "    }\n",
       "\n",
       "    .dataframe tbody tr th {\n",
       "        vertical-align: top;\n",
       "    }\n",
       "\n",
       "    .dataframe thead th {\n",
       "        text-align: right;\n",
       "    }\n",
       "</style>\n",
       "<table border=\"1\" class=\"dataframe\">\n",
       "  <thead>\n",
       "    <tr style=\"text-align: right;\">\n",
       "      <th></th>\n",
       "      <th>item_name</th>\n",
       "      <th>tokens</th>\n",
       "      <th>label</th>\n",
       "      <th>eval_set</th>\n",
       "      <th>clean_tokens</th>\n",
       "      <th>item_id</th>\n",
       "      <th>word_id</th>\n",
       "    </tr>\n",
       "  </thead>\n",
       "  <tbody>\n",
       "    <tr>\n",
       "      <th>0</th>\n",
       "      <td>Samsung Galaxy J1 Ace 2016 SM-J111F 8GB - White</td>\n",
       "      <td>Samsung</td>\n",
       "      <td>2</td>\n",
       "      <td>test</td>\n",
       "      <td>samsung</td>\n",
       "      <td>1</td>\n",
       "      <td>16211</td>\n",
       "    </tr>\n",
       "    <tr>\n",
       "      <th>1</th>\n",
       "      <td>Samsung Galaxy J1 Ace 2016 SM-J111F 8GB - White</td>\n",
       "      <td>Galaxy</td>\n",
       "      <td>0</td>\n",
       "      <td>test</td>\n",
       "      <td>galaxy</td>\n",
       "      <td>1</td>\n",
       "      <td>9619</td>\n",
       "    </tr>\n",
       "    <tr>\n",
       "      <th>2</th>\n",
       "      <td>Samsung Galaxy J1 Ace 2016 SM-J111F 8GB - White</td>\n",
       "      <td>J1</td>\n",
       "      <td>0</td>\n",
       "      <td>test</td>\n",
       "      <td>j1</td>\n",
       "      <td>1</td>\n",
       "      <td>7598</td>\n",
       "    </tr>\n",
       "    <tr>\n",
       "      <th>3</th>\n",
       "      <td>Samsung Galaxy J1 Ace 2016 SM-J111F 8GB - White</td>\n",
       "      <td>Ace</td>\n",
       "      <td>0</td>\n",
       "      <td>test</td>\n",
       "      <td>ace</td>\n",
       "      <td>1</td>\n",
       "      <td>11594</td>\n",
       "    </tr>\n",
       "    <tr>\n",
       "      <th>4</th>\n",
       "      <td>Samsung Galaxy J1 Ace 2016 SM-J111F 8GB - White</td>\n",
       "      <td>2016</td>\n",
       "      <td>0</td>\n",
       "      <td>test</td>\n",
       "      <td>2016</td>\n",
       "      <td>1</td>\n",
       "      <td>3951</td>\n",
       "    </tr>\n",
       "  </tbody>\n",
       "</table>\n",
       "</div>"
      ],
      "text/plain": [
       "                                          item_name   tokens  label eval_set  \\\n",
       "0   Samsung Galaxy J1 Ace 2016 SM-J111F 8GB - White  Samsung      2     test   \n",
       "1   Samsung Galaxy J1 Ace 2016 SM-J111F 8GB - White   Galaxy      0     test   \n",
       "2   Samsung Galaxy J1 Ace 2016 SM-J111F 8GB - White       J1      0     test   \n",
       "3   Samsung Galaxy J1 Ace 2016 SM-J111F 8GB - White      Ace      0     test   \n",
       "4   Samsung Galaxy J1 Ace 2016 SM-J111F 8GB - White     2016      0     test   \n",
       "\n",
       "  clean_tokens  item_id  word_id  \n",
       "0      samsung        1    16211  \n",
       "1       galaxy        1     9619  \n",
       "2           j1        1     7598  \n",
       "3          ace        1    11594  \n",
       "4         2016        1     3951  "
      ]
     },
     "execution_count": 5,
     "metadata": {},
     "output_type": "execute_result"
    }
   ],
   "source": [
    "df.head()"
   ]
  },
  {
   "cell_type": "code",
   "execution_count": 6,
   "metadata": {},
   "outputs": [
    {
     "ename": "SyntaxError",
     "evalue": "invalid syntax (<ipython-input-6-81f44ebcfca3>, line 4)",
     "output_type": "error",
     "traceback": [
      "\u001b[0;36m  File \u001b[0;32m\"<ipython-input-6-81f44ebcfca3>\"\u001b[0;36m, line \u001b[0;32m4\u001b[0m\n\u001b[0;31m    for t in\u001b[0m\n\u001b[0m             ^\u001b[0m\n\u001b[0;31mSyntaxError\u001b[0m\u001b[0;31m:\u001b[0m invalid syntax\n"
     ]
    }
   ],
   "source": [
    "# w_ids = []\n",
    "\n",
    "# for i_id, w_id, tok in zip(list(df.item_id), list(df.word_id), list(df.tokens)):\n",
    "#     for t in "
   ]
  },
  {
   "cell_type": "code",
   "execution_count": 9,
   "metadata": {},
   "outputs": [],
   "source": [
    "word_len_distribution = [len(w) for w in df.tokens]\n",
    "#word_len_distribution"
   ]
  },
  {
   "cell_type": "code",
   "execution_count": 10,
   "metadata": {},
   "outputs": [],
   "source": [
    "num_sentences = 1\n",
    "max_seq_length = 36\n",
    "max_word_length = 10\n",
    "char_id = np.zeros(shape=[num_sentences, max_seq_length, max_word_length], dtype=np.int32)\n",
    "# 3-D assign?"
   ]
  },
  {
   "cell_type": "code",
   "execution_count": 11,
   "metadata": {},
   "outputs": [
    {
     "data": {
      "text/plain": [
       "(1, 36, 10)"
      ]
     },
     "execution_count": 11,
     "metadata": {},
     "output_type": "execute_result"
    }
   ],
   "source": [
    "char_id.shape"
   ]
  },
  {
   "cell_type": "code",
   "execution_count": 12,
   "metadata": {},
   "outputs": [],
   "source": [
    "#for"
   ]
  },
  {
   "cell_type": "code",
   "execution_count": 13,
   "metadata": {},
   "outputs": [],
   "source": [
    "# assign on word-axis\n",
    "char_id[0, 2,:] = np.arange(10)\n",
    "# # assign on char-axis\n",
    "# char_id[0, 0: 1] = np.arange(10)"
   ]
  },
  {
   "cell_type": "code",
   "execution_count": null,
   "metadata": {},
   "outputs": [],
   "source": [
    "char_id[0][2]"
   ]
  },
  {
   "cell_type": "code",
   "execution_count": null,
   "metadata": {},
   "outputs": [],
   "source": [
    "len('Blackview')"
   ]
  },
  {
   "cell_type": "code",
   "execution_count": 14,
   "metadata": {},
   "outputs": [
    {
     "data": {
      "text/html": [
       "<div>\n",
       "<style scoped>\n",
       "    .dataframe tbody tr th:only-of-type {\n",
       "        vertical-align: middle;\n",
       "    }\n",
       "\n",
       "    .dataframe tbody tr th {\n",
       "        vertical-align: top;\n",
       "    }\n",
       "\n",
       "    .dataframe thead th {\n",
       "        text-align: right;\n",
       "    }\n",
       "</style>\n",
       "<table border=\"1\" class=\"dataframe\">\n",
       "  <thead>\n",
       "    <tr style=\"text-align: right;\">\n",
       "      <th></th>\n",
       "      <th>item_name</th>\n",
       "      <th>tokens</th>\n",
       "      <th>label</th>\n",
       "      <th>eval_set</th>\n",
       "      <th>clean_tokens</th>\n",
       "      <th>item_id</th>\n",
       "      <th>word_id</th>\n",
       "    </tr>\n",
       "  </thead>\n",
       "  <tbody>\n",
       "    <tr>\n",
       "      <th>0</th>\n",
       "      <td>Samsung Galaxy J1 Ace 2016 SM-J111F 8GB - White</td>\n",
       "      <td>Samsung</td>\n",
       "      <td>2</td>\n",
       "      <td>test</td>\n",
       "      <td>samsung</td>\n",
       "      <td>1</td>\n",
       "      <td>16211</td>\n",
       "    </tr>\n",
       "    <tr>\n",
       "      <th>1</th>\n",
       "      <td>Samsung Galaxy J1 Ace 2016 SM-J111F 8GB - White</td>\n",
       "      <td>Galaxy</td>\n",
       "      <td>0</td>\n",
       "      <td>test</td>\n",
       "      <td>galaxy</td>\n",
       "      <td>1</td>\n",
       "      <td>9619</td>\n",
       "    </tr>\n",
       "    <tr>\n",
       "      <th>2</th>\n",
       "      <td>Samsung Galaxy J1 Ace 2016 SM-J111F 8GB - White</td>\n",
       "      <td>J1</td>\n",
       "      <td>0</td>\n",
       "      <td>test</td>\n",
       "      <td>j1</td>\n",
       "      <td>1</td>\n",
       "      <td>7598</td>\n",
       "    </tr>\n",
       "    <tr>\n",
       "      <th>3</th>\n",
       "      <td>Samsung Galaxy J1 Ace 2016 SM-J111F 8GB - White</td>\n",
       "      <td>Ace</td>\n",
       "      <td>0</td>\n",
       "      <td>test</td>\n",
       "      <td>ace</td>\n",
       "      <td>1</td>\n",
       "      <td>11594</td>\n",
       "    </tr>\n",
       "    <tr>\n",
       "      <th>4</th>\n",
       "      <td>Samsung Galaxy J1 Ace 2016 SM-J111F 8GB - White</td>\n",
       "      <td>2016</td>\n",
       "      <td>0</td>\n",
       "      <td>test</td>\n",
       "      <td>2016</td>\n",
       "      <td>1</td>\n",
       "      <td>3951</td>\n",
       "    </tr>\n",
       "    <tr>\n",
       "      <th>5</th>\n",
       "      <td>Samsung Galaxy J1 Ace 2016 SM-J111F 8GB - White</td>\n",
       "      <td>SM-J111F</td>\n",
       "      <td>0</td>\n",
       "      <td>test</td>\n",
       "      <td>smj111f</td>\n",
       "      <td>1</td>\n",
       "      <td>482</td>\n",
       "    </tr>\n",
       "    <tr>\n",
       "      <th>6</th>\n",
       "      <td>Samsung Galaxy J1 Ace 2016 SM-J111F 8GB - White</td>\n",
       "      <td>8GB</td>\n",
       "      <td>0</td>\n",
       "      <td>test</td>\n",
       "      <td>8gb</td>\n",
       "      <td>1</td>\n",
       "      <td>19027</td>\n",
       "    </tr>\n",
       "    <tr>\n",
       "      <th>7</th>\n",
       "      <td>Samsung Galaxy J1 Ace 2016 SM-J111F 8GB - White</td>\n",
       "      <td>-</td>\n",
       "      <td>0</td>\n",
       "      <td>test</td>\n",
       "      <td></td>\n",
       "      <td>1</td>\n",
       "      <td>13519</td>\n",
       "    </tr>\n",
       "    <tr>\n",
       "      <th>8</th>\n",
       "      <td>Samsung Galaxy J1 Ace 2016 SM-J111F 8GB - White</td>\n",
       "      <td>White</td>\n",
       "      <td>0</td>\n",
       "      <td>test</td>\n",
       "      <td>white</td>\n",
       "      <td>1</td>\n",
       "      <td>6108</td>\n",
       "    </tr>\n",
       "    <tr>\n",
       "      <th>9</th>\n",
       "      <td>Blackview BV8000 Pro RAM 6GB 64GB IP68 Waterproff Rugged Smartphone</td>\n",
       "      <td>Blackview</td>\n",
       "      <td>2</td>\n",
       "      <td>test</td>\n",
       "      <td>blackview</td>\n",
       "      <td>2</td>\n",
       "      <td>27269</td>\n",
       "    </tr>\n",
       "    <tr>\n",
       "      <th>10</th>\n",
       "      <td>Blackview BV8000 Pro RAM 6GB 64GB IP68 Waterproff Rugged Smartphone</td>\n",
       "      <td>BV8000</td>\n",
       "      <td>0</td>\n",
       "      <td>test</td>\n",
       "      <td>bv8000</td>\n",
       "      <td>2</td>\n",
       "      <td>19235</td>\n",
       "    </tr>\n",
       "    <tr>\n",
       "      <th>11</th>\n",
       "      <td>Blackview BV8000 Pro RAM 6GB 64GB IP68 Waterproff Rugged Smartphone</td>\n",
       "      <td>Pro</td>\n",
       "      <td>0</td>\n",
       "      <td>test</td>\n",
       "      <td>pro</td>\n",
       "      <td>2</td>\n",
       "      <td>22956</td>\n",
       "    </tr>\n",
       "    <tr>\n",
       "      <th>12</th>\n",
       "      <td>Blackview BV8000 Pro RAM 6GB 64GB IP68 Waterproff Rugged Smartphone</td>\n",
       "      <td>RAM</td>\n",
       "      <td>0</td>\n",
       "      <td>test</td>\n",
       "      <td>ram</td>\n",
       "      <td>2</td>\n",
       "      <td>16279</td>\n",
       "    </tr>\n",
       "    <tr>\n",
       "      <th>13</th>\n",
       "      <td>Blackview BV8000 Pro RAM 6GB 64GB IP68 Waterproff Rugged Smartphone</td>\n",
       "      <td>6GB</td>\n",
       "      <td>0</td>\n",
       "      <td>test</td>\n",
       "      <td>6gb</td>\n",
       "      <td>2</td>\n",
       "      <td>25336</td>\n",
       "    </tr>\n",
       "    <tr>\n",
       "      <th>14</th>\n",
       "      <td>Blackview BV8000 Pro RAM 6GB 64GB IP68 Waterproff Rugged Smartphone</td>\n",
       "      <td>64GB</td>\n",
       "      <td>0</td>\n",
       "      <td>test</td>\n",
       "      <td>64gb</td>\n",
       "      <td>2</td>\n",
       "      <td>6729</td>\n",
       "    </tr>\n",
       "    <tr>\n",
       "      <th>15</th>\n",
       "      <td>Blackview BV8000 Pro RAM 6GB 64GB IP68 Waterproff Rugged Smartphone</td>\n",
       "      <td>IP68</td>\n",
       "      <td>0</td>\n",
       "      <td>test</td>\n",
       "      <td>ip68</td>\n",
       "      <td>2</td>\n",
       "      <td>5608</td>\n",
       "    </tr>\n",
       "    <tr>\n",
       "      <th>16</th>\n",
       "      <td>Blackview BV8000 Pro RAM 6GB 64GB IP68 Waterproff Rugged Smartphone</td>\n",
       "      <td>Waterproff</td>\n",
       "      <td>0</td>\n",
       "      <td>test</td>\n",
       "      <td>waterproff</td>\n",
       "      <td>2</td>\n",
       "      <td>8436</td>\n",
       "    </tr>\n",
       "    <tr>\n",
       "      <th>17</th>\n",
       "      <td>Blackview BV8000 Pro RAM 6GB 64GB IP68 Waterproff Rugged Smartphone</td>\n",
       "      <td>Rugged</td>\n",
       "      <td>0</td>\n",
       "      <td>test</td>\n",
       "      <td>rugged</td>\n",
       "      <td>2</td>\n",
       "      <td>20950</td>\n",
       "    </tr>\n",
       "    <tr>\n",
       "      <th>18</th>\n",
       "      <td>Blackview BV8000 Pro RAM 6GB 64GB IP68 Waterproff Rugged Smartphone</td>\n",
       "      <td>Smartphone</td>\n",
       "      <td>0</td>\n",
       "      <td>test</td>\n",
       "      <td>smartphone</td>\n",
       "      <td>2</td>\n",
       "      <td>10686</td>\n",
       "    </tr>\n",
       "    <tr>\n",
       "      <th>19</th>\n",
       "      <td>iCherry C118 -putih</td>\n",
       "      <td>iCherry</td>\n",
       "      <td>2</td>\n",
       "      <td>test</td>\n",
       "      <td>icherry</td>\n",
       "      <td>3</td>\n",
       "      <td>19580</td>\n",
       "    </tr>\n",
       "    <tr>\n",
       "      <th>20</th>\n",
       "      <td>iCherry C118 -putih</td>\n",
       "      <td>C118</td>\n",
       "      <td>0</td>\n",
       "      <td>test</td>\n",
       "      <td>c118</td>\n",
       "      <td>3</td>\n",
       "      <td>1726</td>\n",
       "    </tr>\n",
       "    <tr>\n",
       "      <th>21</th>\n",
       "      <td>iCherry C118 -putih</td>\n",
       "      <td>-putih</td>\n",
       "      <td>0</td>\n",
       "      <td>test</td>\n",
       "      <td>putih</td>\n",
       "      <td>3</td>\n",
       "      <td>24053</td>\n",
       "    </tr>\n",
       "  </tbody>\n",
       "</table>\n",
       "</div>"
      ],
      "text/plain": [
       "                                                                   item_name  \\\n",
       "0                            Samsung Galaxy J1 Ace 2016 SM-J111F 8GB - White   \n",
       "1                            Samsung Galaxy J1 Ace 2016 SM-J111F 8GB - White   \n",
       "2                            Samsung Galaxy J1 Ace 2016 SM-J111F 8GB - White   \n",
       "3                            Samsung Galaxy J1 Ace 2016 SM-J111F 8GB - White   \n",
       "4                            Samsung Galaxy J1 Ace 2016 SM-J111F 8GB - White   \n",
       "5                            Samsung Galaxy J1 Ace 2016 SM-J111F 8GB - White   \n",
       "6                            Samsung Galaxy J1 Ace 2016 SM-J111F 8GB - White   \n",
       "7                            Samsung Galaxy J1 Ace 2016 SM-J111F 8GB - White   \n",
       "8                            Samsung Galaxy J1 Ace 2016 SM-J111F 8GB - White   \n",
       "9        Blackview BV8000 Pro RAM 6GB 64GB IP68 Waterproff Rugged Smartphone   \n",
       "10       Blackview BV8000 Pro RAM 6GB 64GB IP68 Waterproff Rugged Smartphone   \n",
       "11       Blackview BV8000 Pro RAM 6GB 64GB IP68 Waterproff Rugged Smartphone   \n",
       "12       Blackview BV8000 Pro RAM 6GB 64GB IP68 Waterproff Rugged Smartphone   \n",
       "13       Blackview BV8000 Pro RAM 6GB 64GB IP68 Waterproff Rugged Smartphone   \n",
       "14       Blackview BV8000 Pro RAM 6GB 64GB IP68 Waterproff Rugged Smartphone   \n",
       "15       Blackview BV8000 Pro RAM 6GB 64GB IP68 Waterproff Rugged Smartphone   \n",
       "16       Blackview BV8000 Pro RAM 6GB 64GB IP68 Waterproff Rugged Smartphone   \n",
       "17       Blackview BV8000 Pro RAM 6GB 64GB IP68 Waterproff Rugged Smartphone   \n",
       "18       Blackview BV8000 Pro RAM 6GB 64GB IP68 Waterproff Rugged Smartphone   \n",
       "19                                                       iCherry C118 -putih   \n",
       "20                                                       iCherry C118 -putih   \n",
       "21                                                       iCherry C118 -putih   \n",
       "\n",
       "        tokens  label eval_set clean_tokens  item_id  word_id  \n",
       "0      Samsung      2     test      samsung        1    16211  \n",
       "1       Galaxy      0     test       galaxy        1     9619  \n",
       "2           J1      0     test           j1        1     7598  \n",
       "3          Ace      0     test          ace        1    11594  \n",
       "4         2016      0     test         2016        1     3951  \n",
       "5     SM-J111F      0     test      smj111f        1      482  \n",
       "6          8GB      0     test          8gb        1    19027  \n",
       "7            -      0     test                     1    13519  \n",
       "8        White      0     test        white        1     6108  \n",
       "9    Blackview      2     test    blackview        2    27269  \n",
       "10      BV8000      0     test       bv8000        2    19235  \n",
       "11         Pro      0     test          pro        2    22956  \n",
       "12         RAM      0     test          ram        2    16279  \n",
       "13         6GB      0     test          6gb        2    25336  \n",
       "14        64GB      0     test         64gb        2     6729  \n",
       "15        IP68      0     test         ip68        2     5608  \n",
       "16  Waterproff      0     test   waterproff        2     8436  \n",
       "17      Rugged      0     test       rugged        2    20950  \n",
       "18  Smartphone      0     test   smartphone        2    10686  \n",
       "19     iCherry      2     test      icherry        3    19580  \n",
       "20        C118      0     test         c118        3     1726  \n",
       "21      -putih      0     test        putih        3    24053  "
      ]
     },
     "execution_count": 14,
     "metadata": {},
     "output_type": "execute_result"
    }
   ],
   "source": [
    "test= df[df.item_id.isin([1,2,3])]\n",
    "test"
   ]
  },
  {
   "cell_type": "code",
   "execution_count": 18,
   "metadata": {},
   "outputs": [
    {
     "name": "stderr",
     "output_type": "stream",
     "text": [
      "100%|██████████| 3/3 [00:00<00:00, 500.00it/s]\n"
     ]
    }
   ],
   "source": [
    "num_sentences = 3\n",
    "max_word_length = 10 # need to be calculated!!\n",
    "# # setting\n",
    "# num_sentences = output['item_name'].nunique()\n",
    "# logging.info('number of sequences : {}'.format(num_sentences))\n",
    "# 1-D\n",
    "eval_set = np.zeros(shape=[num_sentences], dtype='S5')\n",
    "item_id = np.zeros(shape=[num_sentences], dtype=np.int32) # for recording\n",
    "history_length = np.zeros(shape=[num_sentences], dtype=np.int32)\n",
    "# 2-D\n",
    "word_id = np.zeros(shape=[num_sentences, max_seq_length], dtype=np.int32)\n",
    "label = np.zeros(shape=[num_sentences, max_seq_length], dtype=np.int32)\n",
    "word_length = np.zeros(shape=[num_sentences, max_seq_length], dtype=np.int32) # length of words \n",
    "# 3-D\n",
    "char_id = np.zeros(shape=[num_sentences, max_seq_length, max_word_length], dtype=np.int32)\n",
    "i = 0\n",
    "for ix, df_ in tqdm(test.groupby('item_name')):\n",
    "    #logging.info('item_id : {}'.format(i))\n",
    "    # 1-D\n",
    "    eval_set[i] = df_['eval_set'].iloc[0]\n",
    "    item_id[i] = df_['item_id'].iloc[0]\n",
    "    # 2-D\n",
    "    word_id[i, :], history_length[i] = pad_1d(list(map(int, df_['word_id'])), max_len = max_seq_length, word_padding = True)\n",
    "    label[i, :], _ = pad_1d(list(map(int, df_['label'])), max_len = max_seq_length, word_padding = False)\n",
    "    word_length[i, :], _ = pad_1d([len([char for char in w]) for w in df_['tokens'].tolist()], max_len = max_seq_length, word_padding = False)\n",
    "    # 3-D\n",
    "    for i_word_axis, w in enumerate(df_['tokens'].tolist()):\n",
    "        char_id[i, i_word_axis, : ], _ = pad_1d([chars_to_id_dict[char] for char in w], max_len = max_word_length, word_padding = False)\n",
    "    i += 1\n"
   ]
  },
  {
   "cell_type": "code",
   "execution_count": 16,
   "metadata": {},
   "outputs": [
    {
     "data": {
      "text/plain": [
       "(3, 36)"
      ]
     },
     "execution_count": 16,
     "metadata": {},
     "output_type": "execute_result"
    }
   ],
   "source": [
    "word_id.shape"
   ]
  },
  {
   "cell_type": "code",
   "execution_count": 17,
   "metadata": {},
   "outputs": [
    {
     "data": {
      "text/plain": [
       "(3, 36, 10)"
      ]
     },
     "execution_count": 17,
     "metadata": {},
     "output_type": "execute_result"
    }
   ],
   "source": [
    "char_id.shape"
   ]
  },
  {
   "cell_type": "code",
   "execution_count": 19,
   "metadata": {},
   "outputs": [
    {
     "data": {
      "text/plain": [
       "(2, 3, 1)"
      ]
     },
     "execution_count": 19,
     "metadata": {},
     "output_type": "execute_result"
    }
   ],
   "source": [
    "item_id[0], item_id[1], item_id[2]"
   ]
  },
  {
   "cell_type": "code",
   "execution_count": 20,
   "metadata": {},
   "outputs": [
    {
     "data": {
      "text/plain": [
       "(array([27269, 19235, 22956, 16279, 25336,  6729,  5608,  8436, 20950,\n",
       "        10686,  9858,  9858,  9858,  9858,  9858,  9858,  9858,  9858,\n",
       "         9858,  9858,  9858,  9858,  9858,  9858,  9858,  9858,  9858,\n",
       "         9858,  9858,  9858,  9858,  9858,  9858,  9858,  9858,  9858],\n",
       "       dtype=int32),\n",
       " array([19580,  1726, 24053,  9858,  9858,  9858,  9858,  9858,  9858,\n",
       "         9858,  9858,  9858,  9858,  9858,  9858,  9858,  9858,  9858,\n",
       "         9858,  9858,  9858,  9858,  9858,  9858,  9858,  9858,  9858,\n",
       "         9858,  9858,  9858,  9858,  9858,  9858,  9858,  9858,  9858],\n",
       "       dtype=int32),\n",
       " array([16211,  9619,  7598, 11594,  3951,   482, 19027, 13519,  6108,\n",
       "         9858,  9858,  9858,  9858,  9858,  9858,  9858,  9858,  9858,\n",
       "         9858,  9858,  9858,  9858,  9858,  9858,  9858,  9858,  9858,\n",
       "         9858,  9858,  9858,  9858,  9858,  9858,  9858,  9858,  9858],\n",
       "       dtype=int32))"
      ]
     },
     "execution_count": 20,
     "metadata": {},
     "output_type": "execute_result"
    }
   ],
   "source": [
    "word_id[0], word_id[1], word_id[2]"
   ]
  },
  {
   "cell_type": "code",
   "execution_count": 22,
   "metadata": {},
   "outputs": [
    {
     "data": {
      "text/plain": [
       "(3, 36)"
      ]
     },
     "execution_count": 22,
     "metadata": {},
     "output_type": "execute_result"
    }
   ],
   "source": [
    "word_length.shape"
   ]
  },
  {
   "cell_type": "code",
   "execution_count": 24,
   "metadata": {},
   "outputs": [
    {
     "data": {
      "text/plain": [
       "array([ 9,  6,  3,  3,  3,  4,  4, 10,  6, 10,  0,  0,  0,  0,  0,  0,  0,\n",
       "        0,  0,  0,  0,  0,  0,  0,  0,  0,  0,  0,  0,  0,  0,  0,  0,  0,\n",
       "        0,  0], dtype=int32)"
      ]
     },
     "execution_count": 24,
     "metadata": {},
     "output_type": "execute_result"
    }
   ],
   "source": [
    "word_length[0]"
   ]
  },
  {
   "cell_type": "code",
   "execution_count": null,
   "metadata": {},
   "outputs": [],
   "source": []
  },
  {
   "cell_type": "code",
   "execution_count": null,
   "metadata": {},
   "outputs": [],
   "source": [
    "for i_word_axis, w in enumerate(df_['tokens'].tolist()):\n",
    "    print ('w', w)\n",
    "    print ('i_word_axis',i_word_axis)\n",
    "    # conver w_id into w_token(str)\n",
    "    charids = [chars_to_id_dict[char] for char in w]\n",
    "    charids, _ = pad_1d(charids, max_len = max_word_length, word_padding = False)\n",
    "    char_id[0, i_word_axis, : ] = charids\n",
    "    #for char_word_axis, char in w_token:\n",
    "#     for char_word_axis, char in enumerate('w_token'):\n",
    "#         #print ('char', char)\n",
    "#         # convert char into charid ==> [c1_id,c2_id, ..]\n",
    "#         # pad_1d(charid, max_len = max_word_length, word_padding = False)\n",
    "#         char_id[0, i_word_axis, : ] = np.arange(10)"
   ]
  },
  {
   "cell_type": "code",
   "execution_count": null,
   "metadata": {},
   "outputs": [],
   "source": [
    "char_id[0]"
   ]
  },
  {
   "cell_type": "code",
   "execution_count": null,
   "metadata": {},
   "outputs": [],
   "source": [
    "for i_word_axis, w in enumerate(word_id[0]):\n",
    "    print ('w_id', w)\n",
    "    print ('i_word_axis',i_word_axis)\n",
    "    # conver w_id into w_token(str)\n",
    "    charids = [chars_to_id_dict[char] for char in w_token]\n",
    "    char_id[0, i_word_axis, : ] = pad_1d(charids, max_len = max_word_length, word_padding = False)\n",
    "    #for char_word_axis, char in w_token:\n",
    "#     for char_word_axis, char in enumerate('w_token'):\n",
    "#         #print ('char', char)\n",
    "#         # convert char into charid ==> [c1_id,c2_id, ..]\n",
    "#         # pad_1d(charid, max_len = max_word_length, word_padding = False)\n",
    "#         char_id[0, i_word_axis, : ] = np.arange(10)"
   ]
  },
  {
   "cell_type": "code",
   "execution_count": null,
   "metadata": {},
   "outputs": [],
   "source": [
    "word_id"
   ]
  },
  {
   "cell_type": "code",
   "execution_count": null,
   "metadata": {},
   "outputs": [],
   "source": [
    "chars_to_id_dict['e']"
   ]
  },
  {
   "cell_type": "code",
   "execution_count": null,
   "metadata": {},
   "outputs": [],
   "source": [
    "c, _ = pad_1d([5,3,2], max_len = max_word_length, word_padding = False)\n",
    "c"
   ]
  },
  {
   "cell_type": "code",
   "execution_count": null,
   "metadata": {},
   "outputs": [],
   "source": []
  }
 ],
 "metadata": {
  "kernelspec": {
   "display_name": "Python 3",
   "language": "python",
   "name": "python3"
  },
  "language_info": {
   "codemirror_mode": {
    "name": "ipython",
    "version": 3
   },
   "file_extension": ".py",
   "mimetype": "text/x-python",
   "name": "python",
   "nbconvert_exporter": "python",
   "pygments_lexer": "ipython3",
   "version": "3.6.5"
  }
 },
 "nbformat": 4,
 "nbformat_minor": 2
}
