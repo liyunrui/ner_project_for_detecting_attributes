{
 "cells": [
  {
   "cell_type": "code",
   "execution_count": null,
   "metadata": {},
   "outputs": [],
   "source": [
    "import numpy as np\n",
    "import pandas as pd\n",
    "from datetime import datetime\n",
    "import time\n",
    "import sys\n",
    "sys.path.append('../models/blend/')\n",
    "from utils import customized_eval, HyperParameterTuning, KFoldValidation"
   ]
  },
  {
   "cell_type": "code",
   "execution_count": null,
   "metadata": {},
   "outputs": [],
   "source": [
    "#---------------------\n",
    "# setting\n",
    "#---------------------\n",
    "BINARY_SCENARIO = None\n",
    "#---------------------\n",
    "# load features\n",
    "#---------------------\n",
    "feature_dir = '../features/lazada_and_amazon/all_features.h5'\n",
    "df = pd.read_hdf(feature_dir)\n",
    "#---------------------\n",
    "# label post-processing\n",
    "#---------------------\n",
    "if df.label.nunique() == 2: \n",
    "    BINARY_SCENARIO = True\n",
    "    # binary class\n",
    "    df['label'] = df.label.apply(lambda x: 1 if x == 2 else 0) # for customized f1 score inference of lgb\n",
    "else:\n",
    "    # multi-class(B, I or O)\n",
    "    pass"
   ]
  },
  {
   "cell_type": "code",
   "execution_count": null,
   "metadata": {},
   "outputs": [],
   "source": [
    "features = df.columns.tolist()[7:]\n",
    "target = 'label'"
   ]
  },
  {
   "cell_type": "code",
   "execution_count": null,
   "metadata": {},
   "outputs": [],
   "source": [
    "#-----------------------\n",
    "# parameter tuning for session-level\n",
    "#-----------------------\n",
    "target = 'label'\n",
    "n_splits = 5\n",
    "pbounds = {\n",
    "'num_leaves': (25, 50),\n",
    "'lambda_l2': (0.0, 0.05),\n",
    "'lambda_l1': (0.0, 0.05),\n",
    "'min_child_samples': (20, 120),\n",
    "'bagging_fraction': (0.5, 1.0),\n",
    "'feature_fraction': (0.5, 1.0),\n",
    "} # 6 parameters to tune\n",
    "\n",
    "# Create objec HyperParameterTuning for helping us tuning\n",
    "HP_tuning = HyperParameterTuning(train = df, features= features, target = target,\n",
    "                                 n_splits = n_splits, params_bound = pbounds)\n",
    "\n",
    "date_str = datetime.now().strftime('%Y-%m-%d_%H-%M')\n",
    "s = time.time()\n",
    "result = HP_tuning.param_tuning(init_points = 5, num_iter = 30)\n",
    "e = time.time()\n",
    "logging.info('It took {} mins'.format((e-s)/60.0))\n",
    "\n",
    "result.points_to_csv('logs/param_tuning_for_lgb_{}.csv'.format(date_str), index = False)\n",
    "\n",
    "logging.info(pp.pprint(result.res['max']['max_params']))\n"
   ]
  },
  {
   "cell_type": "code",
   "execution_count": null,
   "metadata": {},
   "outputs": [],
   "source": []
  }
 ],
 "metadata": {
  "kernelspec": {
   "display_name": "Python 3",
   "language": "python",
   "name": "python3"
  },
  "language_info": {
   "codemirror_mode": {
    "name": "ipython",
    "version": 3
   },
   "file_extension": ".py",
   "mimetype": "text/x-python",
   "name": "python",
   "nbconvert_exporter": "python",
   "pygments_lexer": "ipython3",
   "version": "3.6.5"
  }
 },
 "nbformat": 4,
 "nbformat_minor": 2
}
